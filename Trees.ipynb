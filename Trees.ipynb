{
  "nbformat": 4,
  "nbformat_minor": 0,
  "metadata": {
    "colab": {
      "provenance": [],
      "authorship_tag": "ABX9TyMoXby8JYpqXslXW9VCd07v",
      "include_colab_link": true
    },
    "kernelspec": {
      "name": "python3",
      "display_name": "Python 3"
    }
  },
  "cells": [
    {
      "cell_type": "markdown",
      "metadata": {
        "id": "view-in-github",
        "colab_type": "text"
      },
      "source": [
        "<a href=\"https://colab.research.google.com/github/him2glow/DataStructures/blob/main/Trees.ipynb\" target=\"_parent\"><img src=\"https://colab.research.google.com/assets/colab-badge.svg\" alt=\"Open In Colab\"/></a>"
      ]
    },
    {
      "cell_type": "markdown",
      "metadata": {
        "id": "o2c0y7QoDBJK"
      },
      "source": [
        "Tree Traversals (Inorder, Preorder and Postorder)"
      ]
    },
    {
      "cell_type": "markdown",
      "metadata": {
        "id": "AK6whJGVDNUX"
      },
      "source": [
        "using recursion"
      ]
    },
    {
      "cell_type": "code",
      "metadata": {
        "id": "zGtzaasTDBlA"
      },
      "source": [
        "\n",
        "# Binary Tree \n",
        "class Node: \n",
        "\tdef __init__(self,key): \n",
        "\t\tself.left = None\n",
        "\t\tself.right = None\n",
        "\t\tself.val = key \n",
        "\n",
        "\n",
        "def printInorder(root): \n",
        "\n",
        "\tif root: \n",
        "\n",
        "\t\t\n",
        "\t\tprintInorder(root.left) \n",
        "\n",
        "\t\t \n",
        "\t\tprint(root.val), \n",
        "\n",
        "\t\t \n",
        "\t\tprintInorder(root.right) \n",
        "\n",
        "\n",
        "\n",
        "def printPostorder(root): \n",
        "\n",
        "\tif root: \n",
        "\n",
        "\t\n",
        "\t\tprintPostorder(root.left) \n",
        "\n",
        "\t\tprintPostorder(root.right) \n",
        "\n",
        "\t\tprint(root.val), \n",
        "\n",
        "\n",
        "def printPreorder(root): \n",
        "\n",
        "\tif root: \n",
        "\n",
        "\t\t\n",
        "\t\tprint(root.val), \n",
        "\n",
        "\t\t\n",
        "\t\tprintPreorder(root.left) \n",
        "\n",
        "\t\t \n",
        "\t\tprintPreorder(root.right) \n",
        "\n",
        "\n",
        "# Driver code \n",
        "root = Node(1) \n",
        "root.left\t = Node(2) \n",
        "root.right\t = Node(3) \n",
        "root.left.left = Node(4) \n",
        "root.left.right = Node(5) \n",
        "print \"Preorder traversal of binary tree is\"\n",
        "printPreorder(root) \n",
        "\n",
        "print \"\\nInorder traversal of binary tree is\"\n",
        "printInorder(root) \n",
        "\n",
        "print \"\\nPostorder traversal of binary tree is\"\n",
        "printPostorder(root) \n"
      ],
      "execution_count": null,
      "outputs": []
    },
    {
      "cell_type": "markdown",
      "metadata": {
        "id": "RRCdN6t8t82w"
      },
      "source": [
        "Inorder Traversal"
      ]
    },
    {
      "cell_type": "code",
      "metadata": {
        "id": "ZXOxuXM2t7Xw"
      },
      "source": [
        "#Inorder Traversal iterative approach\n",
        "class Node():\n",
        "    def __init__(self,data):\n",
        "        self.left = None\n",
        "        self.right = None\n",
        "        self.data = data\n",
        "\n",
        "def Inorder(root):\n",
        "\n",
        "    stack = []\n",
        "    while stack or root:\n",
        "        if root:\n",
        "            stack.append(root)\n",
        "            root = root.left\n",
        "\n",
        "        else:\n",
        "            temp = stack.pop()\n",
        "            print(temp.data,end=\" \")\n",
        "            root = temp.right\n",
        "\n",
        "root = Node(1)\n",
        "root.right = Node(3)\n",
        "root.left = Node(2)\n",
        "root.left.left = Node(4)\n",
        "root.left.left.right = Node(5)\n",
        "root.left.right = Node(6)\n",
        "root.left.right.right = Node(7)\n",
        "Inorder(root)"
      ],
      "execution_count": null,
      "outputs": []
    },
    {
      "cell_type": "markdown",
      "metadata": {
        "id": "edOuyjBMkQtz"
      },
      "source": [
        "Preorder Traversal using iteration.\n"
      ]
    },
    {
      "cell_type": "code",
      "metadata": {
        "id": "MSNwfT1RkREJ"
      },
      "source": [
        "\n",
        "class Node: \n",
        "\n",
        "\tdef __init__(self, data): \n",
        "\t\tself.data = data \n",
        "\t\tself.left = None\n",
        "\t\tself.right = None\n",
        "\n",
        "\n",
        "def iterativePreorder(root): \n",
        "\t\n",
        "\t# Base CAse \n",
        "\tif root is None: \n",
        "\t\treturn\n",
        "\n",
        "\t# create an empty stack and push root to it \n",
        "\tnodeStack = [] \n",
        "\tnodeStack.append(root) \n",
        "\n",
        "\t# Pop all items one by one. Do following for every popped item \n",
        "\t# a) print it \n",
        "\t# b) push its right child \n",
        "\t# c) push its left child \n",
        "\t# Note that right child is pushed first so that left \n",
        "\t# is processed first */ \n",
        "\twhile(len(nodeStack) > 0): \n",
        "\t\t\n",
        "\t\t# Pop the top item from stack and print it \n",
        "\t\tnode = nodeStack.pop() \n",
        "\t\tprint node.data, \n",
        "\t\t\n",
        "\t\t# Push right and left children of the popped node \n",
        "\t\t# to stack \n",
        "\t\tif node.right is not None: \n",
        "\t\t\tnodeStack.append(node.right) \n",
        "\t\tif node.left is not None: \n",
        "\t\t\tnodeStack.append(node.left)\n",
        "\t\n",
        "# Driver program to test above function \n",
        "root = Node(10) \n",
        "root.left = Node(8) \n",
        "root.right = Node(2) \n",
        "root.left.left = Node(3) \n",
        "root.left.right = Node(5) \n",
        "root.right.left = Node(2) \n",
        "iterativePreorder(root) \n",
        "\n"
      ],
      "execution_count": null,
      "outputs": []
    },
    {
      "cell_type": "markdown",
      "metadata": {
        "id": "e1fJwDvUpq4_"
      },
      "source": [
        "postorder using iteration"
      ]
    },
    {
      "cell_type": "code",
      "metadata": {
        "id": "gtU16lq7prIz"
      },
      "source": [
        "\n",
        "def postOrderIterative(root):  \n",
        "  \n",
        "    if root is None: \n",
        "        return        \n",
        "      \n",
        "    # Create two stacks  \n",
        "    s1 = [] \n",
        "    s2 = [] \n",
        "      \n",
        "    # Push root to first stack \n",
        "    s1.append(root) \n",
        "      \n",
        "    # Run while first stack is not empty \n",
        "    while s1: \n",
        "          \n",
        "        # Pop an item from s1 and  \n",
        "        # append it to s2 \n",
        "        node = s1.pop() \n",
        "        s2.append(node) \n",
        "      \n",
        "        # Push left and right children of  \n",
        "        # removed item to s1 \n",
        "        if node.left: \n",
        "            s1.append(node.left) \n",
        "        if node.right: \n",
        "            s1.append(node.right) \n",
        "  \n",
        "        # Print all elements of second stack \n",
        "    while s2: \n",
        "        node = s2.pop() \n",
        "        print node.data,  \n",
        "\n",
        "root = Node(10) \n",
        "root.left = Node(8) \n",
        "root.right = Node(2) \n",
        "root.left.left = Node(3) \n",
        "root.left.right = Node(5) \n",
        "root.right.left = Node(2) \n",
        "iterativePreorder(root) \n",
        "\n",
        "\n"
      ],
      "execution_count": null,
      "outputs": []
    },
    {
      "cell_type": "markdown",
      "metadata": {
        "id": "AqOFqnGRr8VZ"
      },
      "source": [
        "HEight of tree\n",
        "* there are two convention...1st is to count nodes and second is to cound edges...we are going with edges....but if want to follow nodes convention just return 0 instead of -1"
      ]
    },
    {
      "cell_type": "code",
      "metadata": {
        "id": "1c8UXVdkr8kJ"
      },
      "source": [
        "class Node():\n",
        "    def __init__(self,data):\n",
        "        self.left  = None\n",
        "        self.right = None\n",
        "        self.data = data\n",
        "\n",
        "def height(root): \n",
        "    if node is None: \n",
        "        return -1 \n",
        "    else : \n",
        "        # Compute the height of each subtree  \n",
        "        lheight = height(node.left) \n",
        "        rheight = height(node.right) \n",
        "  \n",
        "        #Use the larger one \n",
        "        if lheight > rheight : \n",
        "            return lheight+1\n",
        "        else: \n",
        "            return rheight+1\n",
        "\n",
        "root = Node(1)\n",
        "root.right = Node(3)\n",
        "root.left = Node(2)\n",
        "root.left.left = Node(4)\n",
        "root.left.left.right = Node(5)\n",
        "root.left.right = Node(6)\n",
        "root.left.right.right = Node(7)\n",
        "\n",
        "print(maxDepth(root))\n",
        "\n"
      ],
      "execution_count": null,
      "outputs": []
    },
    {
      "cell_type": "markdown",
      "metadata": {
        "id": "8B7Fcwwk4k97"
      },
      "source": [
        "Level order traversal of binary tree"
      ]
    },
    {
      "cell_type": "code",
      "metadata": {
        "id": "nXoyrvAA4lK4"
      },
      "source": [
        "# Recursive Python program for level order traversal of Binary Tree\n",
        "\n",
        "# A node structure\n",
        "class Node:\n",
        "\n",
        "\t# A utility function to create a new node\n",
        "\tdef __init__(self, key):\n",
        "\t\tself.data = key\n",
        "\t\tself.left = None\n",
        "\t\tself.right = None\n",
        "\n",
        "\n",
        "# Function to print level order traversal of tree\n",
        "def printLevelOrder(root):\n",
        "\th = height(root)\n",
        "\tfor i in range(1, h+1):\n",
        "\t\tprintGivenLevel(root, i)\n",
        "\n",
        "\n",
        "# Print nodes at a given level\n",
        "def printGivenLevel(root , level):\n",
        "    if root is None:\n",
        "        return\n",
        "    if level == 1:\n",
        "        print(root.data, end=\" \")\n",
        "    elif level > 1:\n",
        "        printGivenLevel(root.left, level - 1)\n",
        "        printGivenLevel(root.right, level - 1)\n",
        "\n",
        "def height(node):\n",
        "\tif node is None:\n",
        "\t\treturn 0\n",
        "\telse :\n",
        "\t\t# Compute the height of each subtree\n",
        "\t\tlheight = height(node.left)\n",
        "\t\trheight = height(node.right)\n",
        "\n",
        "\t\t#Use the larger one\n",
        "\t\tif lheight > rheight :\n",
        "\t\t\treturn lheight+1\n",
        "\t\telse:\n",
        "\t\t\treturn rheight+1\n",
        "\n",
        "# Driver program to test above function\n",
        "root = Node(1)\n",
        "root.left = Node(2)\n",
        "root.right = Node(3)\n",
        "root.left.left = Node(4)\n",
        "root.left.right = Node(5)\n",
        "\n",
        "print(\"Level order traversal of binary tree is -\")\n",
        "printLevelOrder(root)\n",
        "\n",
        "\n"
      ],
      "execution_count": null,
      "outputs": []
    },
    {
      "cell_type": "markdown",
      "metadata": {
        "id": "PaIav_p43rEf"
      },
      "source": [
        "level order traversal using queue or array..."
      ]
    },
    {
      "cell_type": "code",
      "metadata": {
        "id": "Ier06A2M3rS9"
      },
      "source": [
        "\n",
        "class Node:\n",
        "\n",
        "\tdef __init__(self, key):\n",
        "\t\tself.data = key\n",
        "\t\tself.left = None\n",
        "\t\tself.right = None\n",
        "\n",
        "\n",
        "\n",
        "def level_traversal(root):\n",
        "    if root is None:\n",
        "        return\n",
        "\n",
        "    qu = []\n",
        "    qu.append(root)\n",
        "    while len(qu)>0:\n",
        "        temp = qu.pop(0)\n",
        "        print(temp.data,end=\" \")\n",
        "        if temp.left:\n",
        "            qu.append(temp.left)\n",
        "        if temp.right:\n",
        "            qu.append(temp.right)\n",
        "\n",
        "\n",
        "# Driver program to test above function\n",
        "root = Node(1)\n",
        "root.left = Node(2)\n",
        "root.right = Node(3)\n",
        "root.left.left = Node(4)\n",
        "root.left.right = Node(5)\n",
        "\n",
        "print(\"Level order traversal of binary tree is -\")\n",
        "level_traversal(root)\n",
        "\n"
      ],
      "execution_count": null,
      "outputs": []
    },
    {
      "cell_type": "markdown",
      "metadata": {
        "id": "z6H7EvQBeBtw"
      },
      "source": [
        "Insert in tree"
      ]
    },
    {
      "cell_type": "code",
      "metadata": {
        "id": "B2V3PKTbeFHG"
      },
      "source": [
        "#Inorder Traversal without recursion\n",
        "class Node():\n",
        "    def __init__(self,data):\n",
        "        self.left = None\n",
        "        self.right = None\n",
        "        self.data = data\n",
        "\n",
        "def Inorder(root):\n",
        "    current = root\n",
        "    stack = []\n",
        "    while True:\n",
        "        if current is not None:\n",
        "            stack.append(current)\n",
        "            current = current.left\n",
        "\n",
        "        elif(stack):\n",
        "            current=stack.pop()\n",
        "            print(current.data,end=\" \")\n",
        "            current =current.right\n",
        "\n",
        "        else:\n",
        "            break\n",
        "\n",
        "def insert(temp,key):\n",
        "    q = []\n",
        "    q.append(temp)\n",
        "    while(len(q)):\n",
        "        temp  = q[0]\n",
        "        q.pop(0)\n",
        "\n",
        "        if not temp.left:\n",
        "            temp.left = Node(key)\n",
        "            break\n",
        "        else:\n",
        "            q.append(temp.left)\n",
        "        if not temp.right:\n",
        "            temp.right = Node(key)\n",
        "            break\n",
        "        else:\n",
        "            q.append(temp.right)\n",
        "\n",
        "\n",
        "\n",
        "\n",
        "root = Node(1)\n",
        "root.right = Node(3)\n",
        "root.left = Node(2)\n",
        "root.left.left = Node(4)\n",
        "root.left.left.right = Node(5)\n",
        "root.left.right = Node(6)\n",
        "root.left.right.right = Node(7)\n",
        "print(\"before\",end = \" \")\n",
        "Inorder(root)\n",
        "insert(root,9)\n",
        "print()\n",
        "print(\"after\",end = \" \")\n",
        "\n",
        "Inorder(root)"
      ],
      "execution_count": null,
      "outputs": []
    },
    {
      "cell_type": "markdown",
      "metadata": {
        "id": "T1rImRVHFHPg"
      },
      "source": [
        "Delete from the tree"
      ]
    },
    {
      "cell_type": "code",
      "metadata": {
        "id": "0zB1geZqFHfb"
      },
      "source": [
        "\n",
        "class Node():\n",
        "    def __init__(self,data):\n",
        "        self.left = None\n",
        "        self.right = None\n",
        "        self.data = data\n",
        "\n",
        "def Inorder(root):\n",
        "    current = root\n",
        "    stack = []\n",
        "    while True:\n",
        "        if current is not None:\n",
        "            stack.append(current)\n",
        "            current = current.left\n",
        "\n",
        "        elif(stack):\n",
        "            current=stack.pop()\n",
        "            print(current.data,end=\" \")\n",
        "            current =current.right\n",
        "\n",
        "        else:\n",
        "            break\n",
        "\n",
        "def delete_deepest(root,d_node):\n",
        "    q = []\n",
        "    q.append(root)\n",
        "    while q:\n",
        "        temp = q.pop(0)\n",
        "        if temp is d_node:\n",
        "            temp=None\n",
        "            return\n",
        "        if temp.right:\n",
        "            if temp.right is d_node:\n",
        "                temp.right = None\n",
        "                return\n",
        "            else:\n",
        "                q.append(temp.right)\n",
        "        if temp.left:\n",
        "            if temp.left is d_node:\n",
        "                temp.left = None\n",
        "                return\n",
        "            else:\n",
        "                q.append(temp.left)\n",
        "\n",
        "\n",
        "\n",
        "def delete(root,key):\n",
        "    if root==None:\n",
        "        return None\n",
        "    if root.left==None and root.right==None:\n",
        "        if root.data==key:\n",
        "            return None\n",
        "        else:\n",
        "            return root\n",
        "    key_node = None\n",
        "    q = []\n",
        "    q.append(root)\n",
        "    while q:\n",
        "        temp = q.pop(0)\n",
        "        if temp.data==key:\n",
        "            key_node = temp\n",
        "        if temp.left:\n",
        "            q.append(temp.left)\n",
        "        if temp.right:\n",
        "            q.append(temp.right)\n",
        "    if key_node:\n",
        "        x = temp.data\n",
        "\n",
        "        delete_deepest(root,temp)\n",
        "        key_node.data = x\n",
        "    return root\n",
        "\n",
        "root = Node(10)\n",
        "root.right = Node(9)\n",
        "root.left = Node(11)\n",
        "root.left.left = Node(7)\n",
        "root.left.right = Node(12)\n",
        "root.right.right = Node(8)\n",
        "root.right.left = Node(15)\n",
        "key = 11\n",
        "delete(root,key)\n",
        "print(\"before\",end = \" \")\n",
        "Inorder(root)\n"
      ],
      "execution_count": null,
      "outputs": []
    },
    {
      "cell_type": "markdown",
      "metadata": {
        "id": "scCDyVEj6tnf"
      },
      "source": [
        "searching in Tree\n",
        "you just need to traverse in tree using any traversal algorithm and check every node with the value you are searching.\n",
        "examlple: level order search using queue"
      ]
    },
    {
      "cell_type": "code",
      "metadata": {
        "id": "9IrjZNkV6t3q"
      },
      "source": [
        "ef level_traversal(root,key):\n",
        "    if root is None:\n",
        "        return\n",
        "\n",
        "    qu = []\n",
        "    qu.append(root)\n",
        "    while len(qu)>0:\n",
        "        temp = qu.pop(0)\n",
        "        if temp.data==key:\n",
        "            print(\"yes\")\n",
        "            return\n",
        "        if temp.left:\n",
        "            qu.append(temp.left)\n",
        "        if temp.right:\n",
        "            qu.append(temp.right)\n",
        "    print(\"False\")"
      ],
      "execution_count": null,
      "outputs": []
    }
  ]
}