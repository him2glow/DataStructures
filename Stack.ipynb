{
  "nbformat": 4,
  "nbformat_minor": 0,
  "metadata": {
    "colab": {
      "provenance": [],
      "authorship_tag": "ABX9TyOYvuMGp8repDEShs2tOgKF",
      "include_colab_link": true
    },
    "kernelspec": {
      "name": "python3",
      "display_name": "Python 3"
    }
  },
  "cells": [
    {
      "cell_type": "markdown",
      "metadata": {
        "id": "view-in-github",
        "colab_type": "text"
      },
      "source": [
        "<a href=\"https://colab.research.google.com/github/him2glow/DataStructures/blob/main/Stack.ipynb\" target=\"_parent\"><img src=\"https://colab.research.google.com/assets/colab-badge.svg\" alt=\"Open In Colab\"/></a>"
      ]
    },
    {
      "cell_type": "markdown",
      "metadata": {
        "id": "s7jCyceF4qP4"
      },
      "source": [
        "stack using list"
      ]
    },
    {
      "cell_type": "markdown",
      "metadata": {
        "id": "u1GlgtaH53Ac"
      },
      "source": [
        "Python’s buil-in data structure list can be used as a stack. Instead of push(), append() is used to add elements to the top of stack while pop() removes the element in LIFO order.\n",
        "Unfortunately, list has a few shortcomings. The biggest issue is that it can run into speed issue as it grows. The items in list are stored next to each other in memory, if the stack grows bigger than the block of memory that currently hold it, then Python needs to do some memory allocations. This can lead to some append() calls taking much longer than other ones."
      ]
    },
    {
      "cell_type": "code",
      "metadata": {
        "id": "157Lz_VW4fcw"
      },
      "source": [
        "#stack using list\n",
        "stack = []\n",
        "stack.append(1)\n",
        "stack.append(2)\n",
        "stack.append(3)\n",
        "print(stack.pop())\n",
        "print(stack.pop())\n",
        "print(stack.pop())"
      ],
      "execution_count": null,
      "outputs": []
    },
    {
      "cell_type": "markdown",
      "metadata": {
        "id": "AqW-vw174tGq"
      },
      "source": [
        "Implementation using collections.deque"
      ]
    },
    {
      "cell_type": "markdown",
      "metadata": {
        "id": "h6fAcopy55bD"
      },
      "source": [
        "Python stack can be implemented using deque class from collections module. Deque is preferred over list in the cases where we need quicker append and pop operations from both the ends of the container, as deque provides an O(1) time complexity for append and pop operations as compared to list which provides O(n) time complexity.\n",
        "Same methods on deque as seen in list are used, append() and pop()."
      ]
    },
    {
      "cell_type": "code",
      "metadata": {
        "id": "LKDGZ_ds4tW5"
      },
      "source": [
        "from collections import deque\n",
        "stack = deque()\n",
        "stack.append(1)\n",
        "stack.append(2)\n",
        "stack.append(3)\n",
        "print(stack)\n",
        "print(stack.pop())\n",
        "print(stack.pop())\n",
        "print(stack.pop())\n",
        "print(stack)"
      ],
      "execution_count": null,
      "outputs": []
    },
    {
      "cell_type": "markdown",
      "metadata": {
        "id": "F0Nzdbha4tnB"
      },
      "source": [
        "Implemenation using queue module"
      ]
    },
    {
      "cell_type": "markdown",
      "metadata": {
        "id": "quNKRc1659bq"
      },
      "source": [
        "Queue module also has a LIFO Queue, which is basically a Stack. Data is inserted into Queue using put() function and get() takes data out from the Queue."
      ]
    },
    {
      "cell_type": "code",
      "metadata": {
        "id": "BJX_xWTe4uAf"
      },
      "source": [
        "from queue import LifoQueue\n",
        "stack = LifoQueue(maxsize=3)\n",
        "print(stack.qsize()) #return size of stack\n",
        "stack.put(1)\n",
        "stack.put(2)\n",
        "stack.put(3)\n",
        "print(stack.full()) #return True when stack if full\n",
        "print(stack.get())\n",
        "print(stack.get())\n",
        "print(stack.get())\n",
        "print(stack.empty())"
      ],
      "execution_count": null,
      "outputs": []
    },
    {
      "cell_type": "markdown",
      "metadata": {
        "id": "T6Ol3npKBrqL"
      },
      "source": [
        "implementing basic methods of Stack"
      ]
    },
    {
      "cell_type": "code",
      "metadata": {
        "id": "2AGexIcuBr82"
      },
      "source": [
        "class Stack():\n",
        "    def __init__(self):\n",
        "        self.s = []\n",
        "        self.top = -1\n",
        "\n",
        "    def isempty(self):\n",
        "        if self.top==-1:\n",
        "            return True\n",
        "        else:\n",
        "            return False\n",
        "\n",
        "    def push(self,x):\n",
        "        self.top += 1\n",
        "        self.s.append(x)\n",
        "\n",
        "    def pop(self):\n",
        "        if self.top==-1:\n",
        "            print(\"error\")\n",
        "        else:\n",
        "            self.top -= 1\n",
        "            return self.s.pop()\n",
        "\n",
        "    def peek(self):\n",
        "        if self.top==-1:\n",
        "            print(\"no elements in stack\")\n",
        "        else:\n",
        "            return self.s[-1]\n",
        "\n",
        "s=Stack()\n",
        "s.push(4)\n",
        "s.push(4222)\n",
        "s.push(24)\n",
        "s.push(44)\n",
        "\n",
        "print(\"top element is:\", s.peek())\n",
        "print(s.pop())\n",
        "print(s.pop())\n",
        "print(s.pop())\n",
        "print(s.pop())\n",
        "print(s.isempty())\n"
      ],
      "execution_count": null,
      "outputs": []
    },
    {
      "cell_type": "markdown",
      "metadata": {
        "id": "g_zd4su8EY8r"
      },
      "source": [
        "Reverse string using Stack"
      ]
    },
    {
      "cell_type": "code",
      "metadata": {
        "id": "3LjWs7NaEZKe"
      },
      "source": [
        "class Stack():\n",
        "    def __init__(self):\n",
        "        self.s = []\n",
        "        self.top = -1\n",
        "\n",
        "    def isempty(self):\n",
        "        if self.top==-1:\n",
        "            return True\n",
        "        else:\n",
        "            return False\n",
        "\n",
        "    def push(self,x):\n",
        "        self.top += 1\n",
        "        self.s.append(x)\n",
        "\n",
        "    def pop(self):\n",
        "        if self.top==-1:\n",
        "            print(\"error\")\n",
        "        else:\n",
        "            self.top -= 1\n",
        "            return self.s.pop()\n",
        "\n",
        "    def peek(self):\n",
        "        if self.top==-1:\n",
        "            print(\"no elements in stack\")\n",
        "        else:\n",
        "            return self.s[-1]\n",
        "\n",
        "\n",
        "\n",
        "\n",
        "\n",
        "s=Stack()\n",
        "string = \"abaac\"\n",
        "\n",
        "\n",
        "\n",
        "for i in range(len(string)):\n",
        "    s.push(string[i])\n",
        "\n",
        "\n",
        "string = '' # # Making the string empty since all\n",
        "             #characters are saved in stack\n",
        "\n",
        "while not s.isempty():\n",
        "    popped = s.pop()\n",
        "    string = string+popped\n",
        "print(string)\n"
      ],
      "execution_count": null,
      "outputs": []
    },
    {
      "cell_type": "markdown",
      "metadata": {
        "id": "V6VciMpvKNDV"
      },
      "source": [
        "• Check the expression has valid or Balanced parenthesis or not."
      ]
    },
    {
      "cell_type": "code",
      "metadata": {
        "id": "EMMBqxgDKNOQ"
      },
      "source": [
        "def validPar(expr):\n",
        "    stack  = []\n",
        "    for char in expr:\n",
        "        if char in ['(','[','{']:\n",
        "            stack.append(char)\n",
        "        else:\n",
        "            if not stack:\n",
        "                return False\n",
        "            current_char = stack.pop()\n",
        "            if current_char == '(':\n",
        "                if char!=')':\n",
        "                    return False\n",
        "            if current_char == '[':\n",
        "                if char!=']':\n",
        "                    return False\n",
        "            if current_char == '{':\n",
        "                if char!='}':\n",
        "                    return False\n",
        "    if stack:\n",
        "        return False\n",
        "    return True\n",
        "\n",
        "expr = \"}{()}[{\"\n",
        "if validPar(expr):\n",
        "    print(\"Balanced\");\n",
        "else:\n",
        "    print(\"Not Balanced\");\n",
        "\n"
      ],
      "execution_count": null,
      "outputs": []
    },
    {
      "cell_type": "markdown",
      "metadata": {
        "id": "otC2xleWrTi-"
      },
      "source": [
        "Sort stack using another Stack"
      ]
    },
    {
      "cell_type": "code",
      "metadata": {
        "id": "O201pDeWrT0w"
      },
      "source": [
        "def sortstack(s1):\n",
        "    temp  = createStack() #temperary stack\n",
        "    while isEmpty(s1)==False:\n",
        "        x = pop(s1)\n",
        "        # while temporary stack is not\n",
        "        # empty and top of stack is\n",
        "        # greater than temp\n",
        "        while isEmpty(temp)==False and top(temp)>x:\n",
        "            push(s1,pop(temp))\n",
        "            # pop from temporary stack and \n",
        "            # push it to the input stack\n",
        "\n",
        "        push(temp,x)\n",
        "    return temp\n",
        "\n",
        "\n",
        "\n",
        "\n",
        "def createStack():\n",
        "    stack = []\n",
        "    return stack\n",
        "\n",
        "def isEmpty(stack):\n",
        "    return len(stack) == 0\n",
        "\n",
        "def push(stack, item):\n",
        "    stack.append(item)\n",
        "\n",
        "def top(stack):\n",
        "    p = len(stack)\n",
        "    return stack[p- 1]\n",
        "def pop(stack):\n",
        "\n",
        "    if (isEmpty(stack)):\n",
        "        print(\"Stack Underflow \")\n",
        "        exit(1)\n",
        "\n",
        "    return stack.pop()\n",
        "\n",
        "def prints(stack):\n",
        "    for i in range(len(stack)-1, -1, -1):\n",
        "        print(stack[i], end = ' ')\n",
        "    print()\n",
        "\n",
        "s1 = createStack()\n",
        "\n",
        "push( s1, 34 )\n",
        "push( s1, 3 )\n",
        "push( s1, 31 )\n",
        "push( s1, 98 )\n",
        "push( s1, 92 )\n",
        "push( s1, 23 )\n",
        "res = sortstack(s1)\n",
        "print(\"sorted stack: \",res)"
      ],
      "execution_count": null,
      "outputs": []
    },
    {
      "cell_type": "markdown",
      "metadata": {
        "id": "k8s_Vs_JMlzp"
      },
      "source": []
    },
    {
      "cell_type": "code",
      "metadata": {
        "id": "WRDc3blJMmHj"
      },
      "source": [
        "from queue import Queue\n",
        "\n",
        "\n",
        "# Implement Stack using two queues\n",
        "class Stack:\n",
        "\n",
        "    def __init__(self):\n",
        "        self.q1 = Queue()\n",
        "        self.q2 = Queue()\n",
        "\n",
        "    # Insert an item into the stack\n",
        "    def add(self, data):\n",
        "        # Move all elements from the first queue to the second queue\n",
        "        while not self.q1.empty():\n",
        "            self.q2.put(self.q1.get())\n",
        "\n",
        "        # Push item into the first queue\n",
        "        self.q1.put(data)\n",
        "\n",
        "        # Move all elements back to the first queue from the second queue\n",
        "        while not self.q2.empty():\n",
        "            self.q1.put(self.q2.get())\n",
        "\n",
        "    # Remove the top item from the stack\n",
        "    def pop(self):\n",
        "\n",
        "\n",
        "        # if first queue is isEmpty\n",
        "        #little issue ..... no matter what this condition is not executing\n",
        "        if not self.q1:\n",
        "            print(\"Underflow!!\")\n",
        "            return 0\n",
        "\n",
        "\n",
        "        # return the front item from the first queue\n",
        "        front = self.q1.get()\n",
        "\n",
        "        return front\n",
        "\n",
        "\n",
        "s = Stack()\n",
        "s.add(1)\n",
        "s.add(2)\n",
        "s.add(3)\n",
        "print(s.pop())\n",
        "print(s.pop())\n",
        "print(s.pop())\n",
        "print(s.pop())\n",
        "\n"
      ],
      "execution_count": null,
      "outputs": []
    },
    {
      "cell_type": "markdown",
      "metadata": {
        "id": "0V98cpT-RaaV"
      },
      "source": [
        "## implement two stack in a list"
      ]
    },
    {
      "cell_type": "code",
      "metadata": {
        "id": "0iI8-STXRary"
      },
      "source": [
        "#implement two stack in a list\n",
        "class Twostacks:\n",
        "    def __init__(self,n):\n",
        "        self.size = n\n",
        "        self.arr = [None]*n\n",
        "        self.top1 = -1\n",
        "        self.top2 = self.size\n",
        "\n",
        "    def push1(self,x):\n",
        "        if self.top1<self.top2-1:\n",
        "            self.top1 += 1\n",
        "            self.arr[self.top1] = x\n",
        "\n",
        "        else:\n",
        "            print(\"ooverflow\")\n",
        "            return\n",
        "    def push2(self,x):\n",
        "        if self.top1<self.top2-1:\n",
        "            self.top2 -=1\n",
        "            self.arr[self.top2] = x\n",
        "        else:\n",
        "            print(\"overflow\")\n",
        "            return\n",
        "\n",
        "    def pop1(self):\n",
        "        if self.top1 >= 0:\n",
        "            x = self.arr[self.top1]\n",
        "            self.top1 -= 1\n",
        "            return x\n",
        "        else:\n",
        "            print(\"underflow\")\n",
        "            return\n",
        "\n",
        "    def pop2(self):\n",
        "        if self.top2 < self.size:\n",
        "            x = self.arr[self.top2]\n",
        "            self.top2 += 1\n",
        "            return x\n",
        "        else:\n",
        "            print(\"underflow\")\n",
        "            return\n",
        "\n",
        "\n",
        "ts = Twostacks(5)\n",
        "ts.push1(5)\n",
        "ts.push2(10)\n",
        "ts.push2(15)\n",
        "ts.push1(11)\n",
        "ts.push2(7)\n",
        "\n",
        "print(\"Popped element from stack1 is \" + str(ts.pop1()))\n",
        "ts.push2(40)\n",
        "print(\"Popped element from stack2 is \" + str(ts.pop2()))"
      ],
      "execution_count": null,
      "outputs": []
    },
    {
      "cell_type": "markdown",
      "metadata": {
        "id": "IAN--OOVO-Vn"
      },
      "source": [
        "Infix to postfix conversion using stack"
      ]
    },
    {
      "cell_type": "code",
      "metadata": {
        "id": "4TnmGGg-O-gb"
      },
      "source": [
        "OPERATORS = set(['+', '-', '*', '/', '(', ')', '^'])  # set of operators\n",
        "\n",
        "PRIORITY = {'+': 1, '-': 1, '*': 2, '/': 2, '^': 3}  # dictionary having priorities\n",
        "\n",
        "\n",
        "def infix_to_postfix(expression):  # input expression\n",
        "\n",
        "    stack = []  # initially stack empty\n",
        "\n",
        "    output = []  # initially output empty\n",
        "\n",
        "    for ch in expression:\n",
        "\n",
        "        if ch not in OPERATORS:  # if an operand then put it directly in postfix expression\n",
        "\n",
        "            output.append(ch)\n",
        "\n",
        "        elif ch == '(':  # else operators should be put in stack\n",
        "\n",
        "            stack.append('(')\n",
        "\n",
        "        elif ch == ')':\n",
        "\n",
        "            while stack and stack[-1] != '(':\n",
        "                a = stack.pop()\n",
        "                output.append(a)\n",
        "\n",
        "            stack.pop()\n",
        "\n",
        "        else:\n",
        "\n",
        "            # lesser priority can't be on top on higher or equal priority\n",
        "\n",
        "            # so pop and put in output\n",
        "\n",
        "            while stack and stack[-1] != '(' and PRIORITY[ch] <= PRIORITY[stack[-1]]:\n",
        "                output.append(stack.pop())\n",
        "\n",
        "            stack.append(ch)\n",
        "\n",
        "    while stack:\n",
        "        output.append(stack.pop())\n",
        "\n",
        "    return ''.join(output)\n",
        "\n",
        "\n",
        "expression = \"a+b*(c^d-e)^(f+g*h)-i\"\n",
        "\n",
        "print('infix expression: ', expression)\n",
        "\n",
        "print('postfix expression: ', infix_to_postfix(expression))"
      ],
      "execution_count": null,
      "outputs": []
    }
  ]
}