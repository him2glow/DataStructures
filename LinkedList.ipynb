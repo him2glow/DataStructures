{
  "nbformat": 4,
  "nbformat_minor": 0,
  "metadata": {
    "colab": {
      "provenance": [],
      "collapsed_sections": [],
      "authorship_tag": "ABX9TyPcELh32eIzoYOoukRCFkDo",
      "include_colab_link": true
    },
    "kernelspec": {
      "name": "python3",
      "display_name": "Python 3"
    }
  },
  "cells": [
    {
      "cell_type": "markdown",
      "metadata": {
        "id": "view-in-github",
        "colab_type": "text"
      },
      "source": [
        "<a href=\"https://colab.research.google.com/github/him2glow/DataStructures/blob/main/LinkedList.ipynb\" target=\"_parent\"><img src=\"https://colab.research.google.com/assets/colab-badge.svg\" alt=\"Open In Colab\"/></a>"
      ]
    },
    {
      "cell_type": "markdown",
      "metadata": {
        "id": "KUGZqBGt0Z9d"
      },
      "source": [
        "Simple LL with 3 nodes"
      ]
    },
    {
      "cell_type": "code",
      "metadata": {
        "id": "LDFHkQY30V63"
      },
      "source": [
        "class Node():\n",
        "    def __init__(self,data1):\n",
        "        self.data = data1\n",
        "        self.next = None\n",
        "class LinkedList():\n",
        "    def __init__(self):\n",
        "        self.head = None\n",
        "\n",
        "    def printFun(self):\n",
        "        temp = self.head\n",
        "        while(temp):\n",
        "            print(temp.data,end=\" \")\n",
        "            temp = temp.next\n",
        "\n",
        "llist = LinkedList()\n",
        "llist.head  = Node(1)\n",
        "second = Node(2)\n",
        "third = Node(3)\n",
        "\n",
        "llist.head.next = second\n",
        "second.next = third\n",
        "llist.printFun()"
      ],
      "execution_count": null,
      "outputs": []
    },
    {
      "cell_type": "markdown",
      "metadata": {
        "id": "quUEITlo0jfw"
      },
      "source": [
        "SINGLE LL OPERATIONS"
      ]
    },
    {
      "cell_type": "code",
      "metadata": {
        "id": "VLb2DdB20jzm"
      },
      "source": [
        "class Node():\n",
        "    def __init__(self,data):\n",
        "        self.item = data\n",
        "        self.next = None\n",
        "\n",
        "class LinkedList():\n",
        "    def __init__(self):\n",
        "        self.head = None\n",
        "\n",
        "    def traverse_list(self):\n",
        "        if self.head is None:\n",
        "            print(\"This list has no Elements\")\n",
        "            return\n",
        "        else:\n",
        "            n = self.head\n",
        "            while n is not None:\n",
        "                print(n.item,end = ' ')\n",
        "                n = n.next\n",
        "\n",
        "# Inserting Items at the End\n",
        "    def insert_at_end(self,data):\n",
        "        new_node = Node(data)\n",
        "        if self.head is None:\n",
        "            self.head=new_node\n",
        "            return\n",
        "        n = self.head\n",
        "        while n.next is not None:\n",
        "            n = n.next\n",
        "        n.next = new_node\n",
        "\n",
        "# Inserting Items at the Beginning\n",
        "    def insert_at_start(self, data):\n",
        "        new_node = Node(data)\n",
        "        new_node.next = self.head\n",
        "        self.head = new_node\n",
        "\n",
        "# Inserting Item after another Item\n",
        "    def insert_after_item(self,x,data):\n",
        "\n",
        "        n = self.head\n",
        "\n",
        "        while n.next is not None:\n",
        "            if n.item==x:\n",
        "                break\n",
        "            n = n.next\n",
        "        if n is None:\n",
        "            print(\"item is not present in the list\")\n",
        "        else:\n",
        "            new_node = Node(data)\n",
        "            new_node.next =  n.next\n",
        "            n.next = new_node\n",
        "\n",
        "# Inserting Item before another Item\n",
        "    def insert_before_item(self,x,data):\n",
        "        if self.head is None:\n",
        "            print(\"List is empty\")\n",
        "            return\n",
        "        if x == self.head.item:\n",
        "            new_node = Node(data)\n",
        "            new_node.next = self.head\n",
        "            self.head = new_node\n",
        "            return\n",
        "        n = self.head\n",
        "        while n.next is not None:\n",
        "            if n.next.item==x:\n",
        "                break\n",
        "            n = n.next\n",
        "        if n.next is None:\n",
        "            print(\"no such item exists brother\")\n",
        "        else:\n",
        "            new_node = Node(data)\n",
        "            new_node.next = n.next\n",
        "            n.next = new_node\n",
        "\n",
        "\n",
        "\n",
        "\n",
        "# Inserting Item at Specific Index\n",
        "    def inset_at_index(self,index,data):\n",
        "        if index==0:\n",
        "            new_node = Node(data)\n",
        "            new_node.next = self.head\n",
        "            self.head = new_node\n",
        "        i = 0\n",
        "        n = self.head\n",
        "        while i < index - 1 and n is not None:\n",
        "            n = n.next\n",
        "            i += 1\n",
        "\n",
        "        if n is None:\n",
        "            print(\"Index out of bound hai sir\")\n",
        "        else:\n",
        "            new_node = Node(data)\n",
        "            new_node.next = n.next\n",
        "            n.next = new_node\n",
        "\n",
        "# Counting length of linked list\n",
        "    def count_length(self):\n",
        "        if self.head is None:\n",
        "            print(\"Length is: 0\")\n",
        "        else:\n",
        "            counter = 0\n",
        "            n=self.head\n",
        "            while n is not None:\n",
        "                counter += 1\n",
        "                n = n.next\n",
        "            print(\"Length is:\",counter)\n",
        "\n",
        "# Searching Elements\n",
        "\n",
        "    def search_item(self,number):\n",
        "        if self.head is None:\n",
        "            print('Emptiness')\n",
        "            return\n",
        "        n = self.head\n",
        "        while n is not None:\n",
        "            if n.item==number:\n",
        "                print(\"Item is chilling here\")\n",
        "                return True\n",
        "            n = n.next\n",
        "        print(\"item missing i repeat item missing\")\n",
        "        return False\n",
        "\n",
        "# Creating a Linked List by user input\n",
        "    def make_new_list(self):\n",
        "        nums = int(input(\"How many kids you want my son: \"))\n",
        "        if nums==0:\n",
        "            print(\"Idiot\")\n",
        "            return\n",
        "        for i in range(nums):\n",
        "            value = int(input(\"name your child son: \"))\n",
        "            self.insert_at_end(value)\n",
        "\n",
        "\n",
        "\n",
        "# Deletion at the End\n",
        "    def delete_at_end(self):\n",
        "        if self.head is None:\n",
        "            print(\"Emptiness\")\n",
        "            return\n",
        "        n = self.head\n",
        "        while n.next.next is not None:\n",
        "            n = n.next\n",
        "        n.next=None\n",
        "\n",
        "# Deleting element from beggining\n",
        "    def del_from_beggining(self):\n",
        "        self.head = self.head.next\n",
        "\n",
        "# Deletion By Item Value\n",
        "    def delete_element_by_value(self, x):\n",
        "        if self.head.item==x:\n",
        "            self.head = self.head.next\n",
        "            return\n",
        "        n = self.head\n",
        "        while n.next is not None:\n",
        "            if n.next.item==x:\n",
        "                break\n",
        "            n = n.next\n",
        "        if n.next is None:\n",
        "            print(\"NOT FOUND\")\n",
        "        else:\n",
        "            n.next=n.next.next\n",
        "#Delete by position\n",
        "    def deletePOsition(self,position):\n",
        "        if position==0:\n",
        "            self.head=self.head.next\n",
        "\n",
        "        elif position==1:\n",
        "            self.head.next=self.head.next.next\n",
        "        else:\n",
        "            temp=self.head\n",
        "            while position>1:\n",
        "                temp=temp.next\n",
        "                position-=1\n",
        "            temp.next=temp.next.next\n",
        "\n",
        "\n",
        "\n",
        "LOL = LinkedList()\n",
        "\n",
        "LOL.insert_at_end(1)\n",
        "LOL.insert_at_end(2)\n",
        "LOL.insert_at_end(3)\n",
        "LOL.insert_at_end(4)\n",
        "LOL.insert_at_start(9)\n",
        "LOL.insert_after_item(9, 6)\n",
        "LOL.insert_before_item(4, 0)\n",
        "LOL.inset_at_index(3, 8)\n",
        "LOL.delete_at_end()\n",
        "LOL.delete_element_by_value(8)\n",
        "LOL.traverse_list()\n",
        "\n",
        "\n",
        "\n",
        "\n"
      ],
      "execution_count": null,
      "outputs": []
    },
    {
      "cell_type": "markdown",
      "metadata": {
        "id": "5sSfjytaBoNN"
      },
      "source": [
        "REverse LL without actually reversing"
      ]
    },
    {
      "cell_type": "code",
      "metadata": {
        "id": "cmP8T1g1Bseq"
      },
      "source": [
        "    def printrev(self,temp):\n",
        "        if temp:\n",
        "            LL.printrev(temp.next)\n",
        "            print(temp.data,end=\" \")\n",
        "        else:\n",
        "            return"
      ],
      "execution_count": null,
      "outputs": []
    },
    {
      "cell_type": "markdown",
      "metadata": {
        "id": "63NRYgllvGii"
      },
      "source": [
        "## Q 17.Find middle element"
      ]
    },
    {
      "cell_type": "code",
      "metadata": {
        "id": "zRy7xKsGvSIe"
      },
      "source": [
        "    def By_index(self,count):\n",
        "        n = self.head\n",
        "        i = 0\n",
        "        while i<count and n is not None:\n",
        "            n = n.next\n",
        "            i += 1\n",
        "        print(n.item)\n",
        "\n",
        "    def middle_ele(self):\n",
        "        n = self.head\n",
        "        count = 0\n",
        "        while n is not None:\n",
        "            count += 1\n",
        "            n  = n.next\n",
        "        count = count//2\n",
        "        return count\n",
        "\n",
        "\n",
        "LOL.By_index(LOL.middle_ele())\n",
        "#thats ovbious that u have to include methods for traversing ,append with this to get final result"
      ],
      "execution_count": null,
      "outputs": []
    },
    {
      "cell_type": "markdown",
      "metadata": {
        "id": "bMq0djRSyzTX"
      },
      "source": [
        "## Q17.Find middle element better approach"
      ]
    },
    {
      "cell_type": "code",
      "metadata": {
        "id": "paigYBgPy4_I"
      },
      "source": [
        "    def middle_ele(self):\n",
        "        slow_ptr = self.head\n",
        "        fast_ptr = self.head\n",
        "        while fast_ptr is not None and fast_ptr.next is not None:\n",
        "            slow_ptr = slow_ptr.next\n",
        "            fast_ptr = fast_ptr.next.next\n",
        "        print(\"middle ele is:\",slow_ptr.item)"
      ],
      "execution_count": null,
      "outputs": []
    },
    {
      "cell_type": "markdown",
      "metadata": {
        "id": "W-nNZuj0gF_p"
      },
      "source": [
        "## 18. Check if a linked list is a circular linked list."
      ]
    },
    {
      "cell_type": "code",
      "metadata": {
        "id": "j2oNZiLJgGPp"
      },
      "source": [
        "    def check_if_circular(self):\n",
        "        curr = self.head\n",
        "        while curr:\n",
        "            if curr.next==self.head:\n",
        "                print(\"isko uri duniya gol hai\")\n",
        "                break\n",
        "            curr = curr.next"
      ],
      "execution_count": null,
      "outputs": []
    },
    {
      "cell_type": "markdown",
      "metadata": {
        "id": "mg63gyyxkeDn"
      },
      "source": [
        "## 21. Count Nodes in a Circular Linked List."
      ]
    },
    {
      "cell_type": "code",
      "metadata": {
        "id": "GMNW0XPwkeMY"
      },
      "source": [
        "    def count_nodes_incircular(self):\n",
        "\n",
        "        count = 0\n",
        "        cur = self.head\n",
        "        while cur:\n",
        "            count += 1\n",
        "            if cur.next==self.head:\n",
        "                break\n",
        "            cur = cur.next\n",
        "        print(count)"
      ],
      "execution_count": null,
      "outputs": []
    },
    {
      "cell_type": "markdown",
      "metadata": {
        "id": "PzJiWdAaWmiR"
      },
      "source": [
        "## 20. Deletion from a Circular Linked List."
      ]
    },
    {
      "cell_type": "code",
      "metadata": {
        "id": "ixzk8uicWmsH"
      },
      "source": [
        "    def del_from_circular(self,key):\n",
        "        cur = self.head\n",
        "        prev = None\n",
        "        #if only 1 element is present\n",
        "        if cur.item == key and cur.next==self.head:\n",
        "            self.head=None\n",
        "        #if first item is to be deleted\n",
        "        if cur.item==key:\n",
        "            while cur.next!=self.head:\n",
        "                cur = cur.next\n",
        "            cur.next = self.head.next\n",
        "            self.head = cur.next\n",
        "\n",
        "        #for all expect last node\n",
        "        temp = self.head\n",
        "        while cur.next!=self.head:\n",
        "            if cur.item==key:\n",
        "                prev.next = cur.next\n",
        "\n",
        "\n",
        "            prev = cur\n",
        "            cur = cur.next\n",
        "        #for lAST node\n",
        "        if cur.item==key:\n",
        "            prev.next = temp\n",
        "        else:\n",
        "            #bug alert else is printing for every element\n",
        "            print(\"not exits\")"
      ],
      "execution_count": null,
      "outputs": []
    },
    {
      "cell_type": "markdown",
      "metadata": {
        "id": "-TRnZQLoiv3K"
      },
      "source": [
        "## 22. Exchange first and last nodes in a linked list."
      ]
    },
    {
      "cell_type": "code",
      "metadata": {
        "id": "rcRQqbp7iwGp"
      },
      "source": [
        "    def exchange_first_last(self):\n",
        "        #if only two nodes\n",
        "        if self.head.next.next == self.head:\n",
        "            self.head = self.head.next\n",
        "            return\n",
        "\n",
        "        #rest\n",
        "        curr=temp=self.head\n",
        "        prev = None\n",
        "        while curr.next!=self.head:\n",
        "            prev = curr\n",
        "            curr =curr.next\n",
        "        # point the last node to second node of the list\n",
        "        curr.next = temp.next\n",
        "        # point the second last node to first node\n",
        "        prev.next = temp\n",
        "        # point the end of node to start ( make linked list circular )\n",
        "        temp.next = curr\n",
        "        # mark the starting of linked list\n",
        "        self.head = curr"
      ],
      "execution_count": null,
      "outputs": []
    },
    {
      "cell_type": "markdown",
      "metadata": {
        "id": "6IkMKnhb3U7i"
      },
      "source": [
        "Delete middle element"
      ]
    },
    {
      "cell_type": "code",
      "metadata": {
        "id": "S4Xi3ZoY3VPn"
      },
      "source": [
        "    def middle_ele(self):\n",
        "        slow_ptr = self.head\n",
        "        fast_ptr = self.head\n",
        "        while fast_ptr is not None and fast_ptr.next is not None:\n",
        "            slow_ptr = slow_ptr.next\n",
        "            fast_ptr = fast_ptr.next.next\n",
        "        n = self.head\n",
        "        while n.next is not None:\n",
        "            if n.next.item==slow_ptr.item:\n",
        "                break\n",
        "            n = n.next\n",
        "        n.next = n.next.next"
      ],
      "execution_count": null,
      "outputs": []
    },
    {
      "cell_type": "markdown",
      "metadata": {
        "id": "UjY8NiWnIuIs"
      },
      "source": [
        "# **Q1.** Program for n’th node from the end of a Linked List"
      ]
    },
    {
      "cell_type": "code",
      "metadata": {
        "id": "EateoS4-It0Y"
      },
      "source": [
        "    def nth_nodeFrom_end(self,index):\n",
        "        length = 0\n",
        "        n = self.head\n",
        "        while n is not None:\n",
        "            n = n.next\n",
        "            length += 1\n",
        "        n = self.head\n",
        "        for i in range(length-index-1):\n",
        "            n = n.next\n",
        "        print(n.item)"
      ],
      "execution_count": null,
      "outputs": []
    },
    {
      "cell_type": "markdown",
      "metadata": {
        "id": "n7OUWd1e2S5V"
      },
      "source": [
        "# **Q1.** Program for n’th node from the end of a Linked List using double pointer."
      ]
    },
    {
      "cell_type": "code",
      "metadata": {
        "id": "aMwJRpFb2W13"
      },
      "source": [
        "    def nth_from_end(self,index):\n",
        "        main_ptr = self.head\n",
        "        ref_ptr = self.head\n",
        "        count = 0\n",
        "        if self.head is not None:\n",
        "            while count < index:\n",
        "                if ref_ptr is None:\n",
        "                    print(\"index is greater then nodes present\")\n",
        "                ref_ptr=ref_ptr.next\n",
        "                count+=1\n",
        "        while ref_ptr is not None:\n",
        "            main_ptr = main_ptr.next\n",
        "            ref_ptr = ref_ptr.next\n",
        "        print(main_ptr.item)"
      ],
      "execution_count": null,
      "outputs": []
    },
    {
      "cell_type": "markdown",
      "metadata": {
        "id": "2H4DA7jl4uh4"
      },
      "source": [
        "## **Q2**.Function to check if a singly linked list is palindrome "
      ]
    },
    {
      "cell_type": "code",
      "metadata": {
        "id": "ly2s5aNg4uyd"
      },
      "source": [
        "# check for pelindrome\n",
        "    def palindrome(self):\n",
        "        n = self.head\n",
        "        stack  = []\n",
        "        ispalin =  True\n",
        "        while n:\n",
        "            stack.append(n.item)\n",
        "            n = n.next\n",
        "        temp = self.head\n",
        "        while temp:\n",
        "            i = stack.pop()\n",
        "            if temp.item==i:\n",
        "                ispalin = True\n",
        "            else:\n",
        "                ispalin = False\n",
        "                break\n",
        "            temp = temp.next\n",
        "        return ispalin\n",
        "\n",
        "result  = LOL.palindrome()\n",
        "print(\"isPalindrome:\", result)"
      ],
      "execution_count": null,
      "outputs": []
    },
    {
      "cell_type": "markdown",
      "metadata": {
        "id": "8r7BKqik8T9n"
      },
      "source": [
        "## 3. Write a Program to reverse the Linked List. (Both Iterative and recursive)"
      ]
    },
    {
      "cell_type": "code",
      "metadata": {
        "id": "7aZHTSMG8Ubq"
      },
      "source": [
        "    def reverse_list(self):\n",
        "        current =  self.head\n",
        "        prev=None\n",
        "        while current is not None:\n",
        "            next = current.next #so we dont loose adreess of next node\n",
        "            current.next = prev #setting value in reverse direction\n",
        "            prev = current #\n",
        "            current = next #just resseting value for next loop\n",
        "        self.head = prev"
      ],
      "execution_count": null,
      "outputs": []
    },
    {
      "cell_type": "markdown",
      "metadata": {
        "id": "_n5pxC-b_EGr"
      },
      "source": [
        "## 5. Write a program to Detect loop in a linked list."
      ]
    },
    {
      "cell_type": "code",
      "metadata": {
        "id": "LZqUwI_U_Ed5"
      },
      "source": [
        "#using hashing\n",
        "    def detect_loop(self):\n",
        "        s = set()\n",
        "        n = self.head\n",
        "        while n is not None:\n",
        "            if n in s:\n",
        "                return True\n",
        "            s.add(n)\n",
        "            n=n.next\n",
        "        return False\n",
        "\n",
        "# yet to learn Floyd’s Cycle-Finding Algorithm link = https://www.geeksforgeeks.org/detect-loop-in-a-linked-list/ \n",
        "\n"
      ],
      "execution_count": null,
      "outputs": []
    },
    {
      "cell_type": "markdown",
      "metadata": {
        "id": "syLXa-tWaj6V"
      },
      "source": [
        "## Q8.Remove duplicates from a sorted linked list"
      ]
    },
    {
      "cell_type": "code",
      "metadata": {
        "id": "eGv6bwUvakNV"
      },
      "source": [
        "    #it is for SORTED LINKED LIST\n",
        "    def remove_duplicates(self):\n",
        "        n = self.head\n",
        "        while n.next is not None:\n",
        "            if n.item==n.next.item:\n",
        "                temp  = n.next.next\n",
        "                n.next = None\n",
        "                n.next = temp\n",
        "                #n.next=n.next.next    #only writing this will also work\n",
        "            else:\n",
        "                n = n.next\n",
        "        return self.head"
      ],
      "execution_count": null,
      "outputs": []
    },
    {
      "cell_type": "markdown",
      "metadata": {
        "id": "kSudsKiFOeei"
      },
      "source": [
        "## Q9.Remove duplicates from a unsorted linked list"
      ]
    },
    {
      "cell_type": "code",
      "metadata": {
        "id": "dtWMTS-5OepG"
      },
      "source": [
        "    def dupli_unsorted(self):\n",
        "        n = self.head\n",
        "        arr = []\n",
        "        prev = None\n",
        "        while n is not None:\n",
        "            if n.item not in arr:\n",
        "                arr.append(n.item)\n",
        "                prev = n\n",
        "            else:\n",
        "                prev.next = n.next\n",
        "            n = n.next\n",
        "\n",
        "# yet to study method given below\n",
        "# using two looops \n",
        "    def removeDups(self):\n",
        "        current = second = self.head\n",
        "        while current is not None:\n",
        "            while second.next is not None:  # check second.next here rather than second\n",
        "                if second.next.data == current.data:  # check second.next.data, not second.data\n",
        "                    second.next = second.next.next  # cut second.next out of the list\n",
        "                else:\n",
        "                    second = second.next  # put this line in an else, to avoid skipping items\n",
        "            current = second = current.next"
      ],
      "execution_count": null,
      "outputs": []
    },
    {
      "cell_type": "markdown",
      "metadata": {
        "id": "SP9wAjBurT8X"
      },
      "source": [
        "Bubble sort by exchanging Data"
      ]
    },
    {
      "cell_type": "code",
      "metadata": {
        "id": "JF-jIBQxrUIH"
      },
      "source": [
        "    def B_sorting(self):\n",
        "        end = None\n",
        "        while end!= self.head:\n",
        "            p=self.head\n",
        "            while p.next != end:\n",
        "                q = p.next\n",
        "                if p.item>q.item:\n",
        "                    q.item,p.item=p.item,q.item\n",
        "                p = p.next\n",
        "            end = p"
      ],
      "execution_count": null,
      "outputs": []
    },
    {
      "cell_type": "markdown",
      "metadata": {
        "id": "RED7JNzs8LBx"
      },
      "source": [
        "## **Q7.Write a function to delete a Linked List**"
      ]
    },
    {
      "cell_type": "code",
      "metadata": {
        "id": "0ckR2ziO8LQG"
      },
      "source": [
        "    def delete_list(self):\n",
        "        n = self.head\n",
        "        while n is not None:\n",
        "            x = n.next\n",
        "            del n.item\n",
        "            n = x\n",
        "        print(\"Node deleted\")"
      ],
      "execution_count": null,
      "outputs": []
    },
    {
      "cell_type": "markdown",
      "metadata": {
        "id": "k90-YtORdvrT"
      },
      "source": [
        "## 10. Program to Move the last element to Front in a Linked List."
      ]
    },
    {
      "cell_type": "code",
      "metadata": {
        "id": "t2RncZmfdwAL"
      },
      "source": [
        "    #my approach\n",
        "    def swapFS(self):\n",
        "        last =   self.head\n",
        "        secLast = None\n",
        "\n",
        "        while last.next is not None:\n",
        "            secLast = last\n",
        "            last = last.next\n",
        "\n",
        "        secLast.next = None\n",
        "        last.next = self.head\n",
        "        self.head = last"
      ],
      "execution_count": null,
      "outputs": []
    },
    {
      "cell_type": "markdown",
      "metadata": {
        "id": "pwhJUTf9IXzQ"
      },
      "source": [
        "## 13. Intersection of two Sorted Linked List."
      ]
    },
    {
      "cell_type": "code",
      "metadata": {
        "id": "XXBq-wjYIYB_"
      },
      "source": [
        "    def intersection(self,test2):\n",
        "        list1 = self.head    #1 2 3 4 6\n",
        "        list2 = test2.head   # 2 4 6 8\n",
        "        res = LinkedList()\n",
        "        while list1 and list2:\n",
        "            if list1.item > list2.item:\n",
        "                list2 = list2.next\n",
        "\n",
        "            elif list2.item > list1.item:\n",
        "                list1 = list1.next\n",
        "\n",
        "            else:\n",
        "                res.append_end(list2.item)\n",
        "                list1=list1.next\n",
        "                list2=list2.next\n",
        "        print()\n",
        "        return res\n",
        "\n",
        "      #my way\n",
        "        def intersection(self,test2):\n",
        "            list1 = self.head    #1 2 3 4 6\n",
        "            list2 = test2.head   # 2 4 6 8\n",
        "            res = LinkedList()\n",
        "            while list1:\n",
        "                while list2:\n",
        "                    if list1.item==list2.item:\n",
        "                        res.append_end(list2.item)\n",
        "                    list2 = list2.next\n",
        "\n",
        "                list2 = test2.head\n",
        "                list1 = list1.next\n",
        "            print()\n",
        "            return res\n",
        "\n",
        "      #myway 2 and easiest\n",
        "          def intersection(self,test2):\n",
        "        list1 = self.head    #1 2 3 4 6\n",
        "        list2 = test2.head   # 2 4 6 8\n",
        "        arr  = []\n",
        "        while list1:\n",
        "            arr.append(list1.item)\n",
        "            list1 = list1.next\n",
        "        while list2:\n",
        "            if list2.item in arr:\n",
        "                print(list2.item,end=' ')\n",
        "                list2 = list2.next\n",
        "\n",
        "  #test.intersection(test2).traversing()    #have to call it like this\n"
      ],
      "execution_count": null,
      "outputs": []
    },
    {
      "cell_type": "markdown",
      "metadata": {
        "id": "E68O4kv7wilq"
      },
      "source": [
        "## 13. Intersection of two Sorted Linked List."
      ]
    },
    {
      "cell_type": "code",
      "metadata": {
        "id": "e8ov7sstwivC"
      },
      "source": [
        "# YET TO UNDERSTAND THIS CONCEPT\n",
        "# Definition for singly-linked list.\n",
        "# class ListNode:\n",
        "#     def __init__(self, x):\n",
        "#         self.val = x\n",
        "#         self.next = None\n",
        "\n",
        "class Solution:\n",
        "\n",
        "    def getIntersectionNode(self, headA, headB):\n",
        "        curA,curB = headA,headB\n",
        "        lenA,lenB = 0,0\n",
        "        while curA is not None:\n",
        "            lenA += 1\n",
        "            curA = curA.next\n",
        "        while curB is not None:\n",
        "            lenB += 1\n",
        "            curB = curB.next\n",
        "        curA,curB = headA,headB\n",
        "        if lenA > lenB:\n",
        "            for i in range(lenA-lenB):\n",
        "                curA = curA.next\n",
        "        elif lenB > lenA:\n",
        "            for i in range(lenB-lenA):\n",
        "                curB = curB.next\n",
        "        while curB != curA:\n",
        "            curB = curB.next\n",
        "            curA = curA.next\n",
        "        return curA"
      ],
      "execution_count": null,
      "outputs": []
    }
  ]
}